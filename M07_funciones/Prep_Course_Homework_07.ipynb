{
 "cells": [
  {
   "attachments": {},
   "cell_type": "markdown",
   "metadata": {},
   "source": [
    "## Funciones"
   ]
  },
  {
   "attachments": {},
   "cell_type": "markdown",
   "metadata": {},
   "source": [
    "1) Crear una función que reciba un número como parámetro y devuelva True si es primo y False si no lo es"
   ]
  },
  {
   "cell_type": "code",
   "execution_count": 9,
   "metadata": {},
   "outputs": [],
   "source": [
    "def esprimo(x):\n",
    "   if x<= 0:\n",
    "     primo = False\n",
    "   else:\n",
    "      primo = True\n",
    "      for i in range (2,x):\n",
    "         if x%i==0:\n",
    "            primo = False\n",
    "            break\n",
    "   return primo\n"
   ]
  },
  {
   "cell_type": "code",
   "execution_count": 10,
   "metadata": {},
   "outputs": [
    {
     "data": {
      "text/plain": [
       "False"
      ]
     },
     "execution_count": 10,
     "metadata": {},
     "output_type": "execute_result"
    }
   ],
   "source": [
    "esprimo(76)"
   ]
  },
  {
   "cell_type": "markdown",
   "metadata": {},
   "source": []
  },
  {
   "cell_type": "code",
   "execution_count": 11,
   "metadata": {},
   "outputs": [
    {
     "data": {
      "text/plain": [
       "True"
      ]
     },
     "execution_count": 11,
     "metadata": {},
     "output_type": "execute_result"
    }
   ],
   "source": [
    "esprimo(3)"
   ]
  },
  {
   "attachments": {},
   "cell_type": "markdown",
   "metadata": {},
   "source": [
    "2) Utilizando la función del punto 1, realizar otra función que reciba de parámetro una lista de números y devuelva sólo aquellos que son primos en otra lista"
   ]
  },
  {
   "cell_type": "code",
   "execution_count": 12,
   "metadata": {},
   "outputs": [],
   "source": [
    "def extraprimos(y):\n",
    "    x=[]\n",
    "    for i in y:\n",
    "        if esprimo(int(i)):\n",
    "            x.append(i)\n",
    "    return x"
   ]
  },
  {
   "cell_type": "code",
   "execution_count": 13,
   "metadata": {},
   "outputs": [
    {
     "name": "stdout",
     "output_type": "stream",
     "text": [
      "[1, 2, 3, 5, 7, 11, 13, 17, 19]\n"
     ]
    }
   ],
   "source": [
    "lis_completa = [1,2,3,4,5,6,7,8,9,10,11,12,13,14,15,16,17,18,19,20]\n",
    "soloprimos= extraprimos(lis_completa)\n",
    "print(soloprimos)"
   ]
  },
  {
   "attachments": {},
   "cell_type": "markdown",
   "metadata": {},
   "source": [
    "3) Crear una función que al recibir una lista de números, devuelva el que más se repite y cuántas veces lo hace. Si hay más de un \"más repetido\", que devuelva cualquiera"
   ]
  },
  {
   "cell_type": "code",
   "execution_count": 74,
   "metadata": {},
   "outputs": [],
   "source": [
    "\n",
    "def cuantasrepeticiones(h):\n",
    "    from collections import Counter\n",
    "    \n",
    "    num=Counter(h).most_common(1)\n",
    "    #para obtener el menor se usaria asi:\n",
    "    # menor=Counter(h).most_common()[-1]\n",
    "      \n",
    "    \n",
    "\n",
    "    return num\n",
    "\n"
   ]
  },
  {
   "cell_type": "code",
   "execution_count": 75,
   "metadata": {},
   "outputs": [
    {
     "data": {
      "text/plain": [
       "[(4, 9)]"
      ]
     },
     "execution_count": 75,
     "metadata": {},
     "output_type": "execute_result"
    }
   ],
   "source": [
    "listasucia=[3,3,5,7,8,8,9,0,6,4,4,4,4,4,4,4,4,4,3,8,8,9]\n",
    "cuantasrepeticiones(listasucia)"
   ]
  },
  {
   "attachments": {},
   "cell_type": "markdown",
   "metadata": {},
   "source": [
    "4) A la función del punto 3, agregar un parámetro más, que permita elegir si se requiere el menor o el mayor de los mas repetidos."
   ]
  },
  {
   "cell_type": "code",
   "execution_count": 171,
   "metadata": {},
   "outputs": [
    {
     "ename": "SyntaxError",
     "evalue": "invalid syntax (1942569146.py, line 6)",
     "output_type": "error",
     "traceback": [
      "\u001b[1;36m  Cell \u001b[1;32mIn[171], line 6\u001b[1;36m\u001b[0m\n\u001b[1;33m    mayor = max(num, key=lambda x[0]:x)\u001b[0m\n\u001b[1;37m                                 ^\u001b[0m\n\u001b[1;31mSyntaxError\u001b[0m\u001b[1;31m:\u001b[0m invalid syntax\n"
     ]
    }
   ],
   "source": [
    "def mayordelosrepetidos1(h):\n",
    "    from collections import Counter\n",
    "    \n",
    "    num=Counter(h).most_common(2)\n",
    "\n",
    "    mayor = max(num, key=lambda x:x[0])\n",
    "  \n",
    "\n",
    "    \n",
    "    return ('El mayor de los mas repetidos es', mayor[0], 'repetido', mayor[1], 'veces')\n",
    "     "
   ]
  },
  {
   "cell_type": "code",
   "execution_count": 172,
   "metadata": {},
   "outputs": [],
   "source": [
    "\n",
    "\n",
    "def mayordelosrepetidos1(h):\n",
    "    from collections import Counter\n",
    "\n",
    "    \n",
    "    num=Counter(h).most_common(2)\n",
    "\n",
    "    mayor = max(num, key=operator.itemgetter(1))\n",
    "  \n",
    "\n",
    "    \n",
    "    return ('El mayor de los mas repetidos es', mayor[0], 'repetido', mayor[1], 'veces')"
   ]
  },
  {
   "cell_type": "code",
   "execution_count": 126,
   "metadata": {},
   "outputs": [],
   "source": [
    "def mayordelosrepetidos(h):\n",
    "    from collections import Counter\n",
    "    \n",
    "    num=Counter(h).most_common(3)\n",
    "\n",
    "    cantidad=max(num[1])\n",
    "    elemento=0\n",
    "    for i in num:\n",
    "        if i==cantidad:\n",
    "            elemento=i\n",
    "\n",
    "\n",
    "\n",
    "    \n",
    "    return cantidad, elemento"
   ]
  },
  {
   "attachments": {},
   "cell_type": "markdown",
   "metadata": {},
   "source": [
    "5) Crear una función que convierta entre grados Celsius, Farenheit y Kelvin<br>\n",
    "Fórmula 1\t: (°C × 9/5) + 32 = °F<br>\n",
    "Fórmula 2\t: °C + 273.15 = °K<br>\n",
    "Debe recibir 3 parámetros: el valor, la medida de orígen y la medida de destino\n"
   ]
  },
  {
   "cell_type": "code",
   "execution_count": 1,
   "metadata": {},
   "outputs": [],
   "source": [
    "def conversor1(valor, origen, destino):\n",
    "    if origen == 'celcius':\n",
    "        if destino == 'celcius':\n",
    "            conversion = valor\n",
    "        elif destino == 'farenheit':\n",
    "            conversion= (valor*(9/5)+32)\n",
    "        elif destino == 'kelvin':\n",
    "            conversion= (valor+273.15)\n",
    "        else:\n",
    "            print ('destino desconocido')\n",
    "\n",
    "    elif origen == 'farenheit':\n",
    "        if destino == 'farenheit':\n",
    "            conversion = valor\n",
    "        elif destino == 'celcius':\n",
    "            conversion = ((valor - 32) * (5/9))\n",
    "        elif destino == 'kelvin':\n",
    "            conversion = ((valor + 459.67) * (5/9))\n",
    "        else:\n",
    "            print ('destino desconocido')\n",
    "    elif origen == 'kelvin':\n",
    "        if destino == 'kelvin':\n",
    "            conversion = valor\n",
    "        elif destino == 'celcius':\n",
    "            conversion = (valor - 273.15)\n",
    "        elif destino == 'farenheit':\n",
    "            conversion = ((valor - 273.15) * 9/5 + 32)\n",
    "        else:\n",
    "            print ('destino desconocido')\n",
    "    else:\n",
    "        print ('origen desconocido')\n",
    "\n",
    "    return ('El valor de ', valor, origen, 'a', destino, 'da', conversion)\n"
   ]
  },
  {
   "cell_type": "code",
   "execution_count": 2,
   "metadata": {},
   "outputs": [
    {
     "data": {
      "text/plain": [
       "('El valor de ', 27, 'kelvin', 'a', 'farenheit', 'da', -411.07)"
      ]
     },
     "execution_count": 2,
     "metadata": {},
     "output_type": "execute_result"
    }
   ],
   "source": [
    "conversor1(27, 'kelvin', 'farenheit')"
   ]
  },
  {
   "attachments": {},
   "cell_type": "markdown",
   "metadata": {},
   "source": [
    "6) Iterando una lista con los tres valores posibles de temperatura que recibe la función del punto 5, hacer un print para cada combinación de los mismos:"
   ]
  },
  {
   "cell_type": "code",
   "execution_count": null,
   "metadata": {},
   "outputs": [],
   "source": [
    "----"
   ]
  },
  {
   "attachments": {},
   "cell_type": "markdown",
   "metadata": {},
   "source": [
    "7) Armar una función que devuelva el factorial de un número. Tener en cuenta que el usuario puede equivocarse y enviar de parámetro un número no entero o negativo"
   ]
  },
  {
   "cell_type": "code",
   "execution_count": 39,
   "metadata": {},
   "outputs": [],
   "source": [
    "def factorial(numero):\n",
    "    numero=int(numero)\n",
    "\n",
    "    if(numero>1):\n",
    "        numero=numero*factorial(numero-1)\n",
    "\n",
    "    elif(numero<1):\n",
    "        print('Numero es negativo')\n",
    "       \n",
    "    return numero"
   ]
  },
  {
   "cell_type": "code",
   "execution_count": 45,
   "metadata": {},
   "outputs": [
    {
     "data": {
      "text/plain": [
       "1"
      ]
     },
     "execution_count": 45,
     "metadata": {},
     "output_type": "execute_result"
    }
   ],
   "source": [
    "factorial(1)"
   ]
  }
 ],
 "metadata": {
  "interpreter": {
   "hash": "c85384e4cb51c8b72350f3a8712cc8351fdc3955e32a27f9b60c6242ab125f01"
  },
  "kernelspec": {
   "display_name": "Python 3 (ipykernel)",
   "language": "python",
   "name": "python3"
  },
  "language_info": {
   "codemirror_mode": {
    "name": "ipython",
    "version": 3
   },
   "file_extension": ".py",
   "mimetype": "text/x-python",
   "name": "python",
   "nbconvert_exporter": "python",
   "pygments_lexer": "ipython3",
   "version": "3.10.11"
  }
 },
 "nbformat": 4,
 "nbformat_minor": 4
}
