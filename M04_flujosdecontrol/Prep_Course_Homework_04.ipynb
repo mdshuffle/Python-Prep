{
 "cells": [
  {
   "attachments": {},
   "cell_type": "markdown",
   "metadata": {},
   "source": [
    "## Flujos de Control"
   ]
  },
  {
   "attachments": {},
   "cell_type": "markdown",
   "metadata": {},
   "source": [
    "1) Crear una variable que contenga un elemento del conjunto de números enteros y luego imprimir por pantalla si es mayor o menor a cero"
   ]
  },
  {
   "cell_type": "code",
   "execution_count": 6,
   "metadata": {},
   "outputs": [
    {
     "name": "stdout",
     "output_type": "stream",
     "text": [
      "La variable no es cero\n"
     ]
    }
   ],
   "source": [
    "a=5\n",
    "if (a!=0):\n",
    "    print('La variable no es cero') \n",
    "else:\n",
    "    print('La variable es cero')"
   ]
  },
  {
   "attachments": {},
   "cell_type": "markdown",
   "metadata": {},
   "source": [
    "2) Crear dos variables y un condicional que informe si son del mismo tipo de dato"
   ]
  },
  {
   "cell_type": "code",
   "execution_count": 10,
   "metadata": {},
   "outputs": [
    {
     "name": "stdout",
     "output_type": "stream",
     "text": [
      "son diferentes\n",
      "osea, diferente tipo\n"
     ]
    }
   ],
   "source": [
    "b=2\n",
    "c='2'\n",
    "if b==c:\n",
    "    print('son iguales')\n",
    "else:\n",
    "    print('son diferentes')\n",
    "\n",
    "if (type(b) == type(c)):\n",
    "    print('Mismo tipo')\n",
    "else:\n",
    "    print('osea, diferente tipo')"
   ]
  },
  {
   "attachments": {},
   "cell_type": "markdown",
   "metadata": {},
   "source": [
    "3) Para los valores enteros del 1 al 20, imprimir por pantalla si es par o impar"
   ]
  },
  {
   "cell_type": "code",
   "execution_count": 2,
   "metadata": {},
   "outputs": [
    {
     "name": "stdout",
     "output_type": "stream",
     "text": [
      "1 Es impar\n",
      "2 Es par\n",
      "3 Es impar\n",
      "4 Es par\n",
      "5 Es impar\n",
      "6 Es par\n",
      "7 Es impar\n",
      "8 Es par\n",
      "9 Es impar\n",
      "10 Es par\n",
      "11 Es impar\n",
      "12 Es par\n",
      "13 Es impar\n",
      "14 Es par\n",
      "15 Es impar\n",
      "16 Es par\n",
      "17 Es impar\n",
      "18 Es par\n",
      "19 Es impar\n",
      "20 Es par\n"
     ]
    }
   ],
   "source": [
    "for d in range(1,21):\n",
    "    if d%2==0 :\n",
    "        \n",
    "        print (str(d)+' Es par')\n",
    "    else:\n",
    "        print (str(d)+' Es impar')"
   ]
  },
  {
   "attachments": {},
   "cell_type": "markdown",
   "metadata": {},
   "source": [
    "4) En un ciclo for mostrar para los valores entre 0 y 5 el resultado de elevarlo a la potencia igual a 3"
   ]
  },
  {
   "cell_type": "code",
   "execution_count": 6,
   "metadata": {},
   "outputs": [
    {
     "name": "stdout",
     "output_type": "stream",
     "text": [
      "0 elevado a la 3 da  0\n",
      "1 elevado a la 3 da  1\n",
      "2 elevado a la 3 da  8\n",
      "3 elevado a la 3 da  27\n",
      "4 elevado a la 3 da  64\n",
      "5 elevado a la 3 da  125\n"
     ]
    }
   ],
   "source": [
    "for h in range(0,6):\n",
    "    potencia=h**3\n",
    "    print(h, 'elevado a la 3 da ',potencia)"
   ]
  },
  {
   "attachments": {},
   "cell_type": "markdown",
   "metadata": {},
   "source": [
    "5) Crear una variable que contenga un número entero y realizar un ciclo for la misma cantidad de ciclos"
   ]
  },
  {
   "cell_type": "code",
   "execution_count": 7,
   "metadata": {},
   "outputs": [
    {
     "name": "stdout",
     "output_type": "stream",
     "text": [
      "0\n",
      "1\n",
      "2\n",
      "3\n",
      "4\n",
      "5\n",
      "6\n",
      "7\n",
      "8\n",
      "9\n"
     ]
    }
   ],
   "source": [
    "k=10\n",
    "for ciclo in range (0,k):\n",
    "    print(ciclo)"
   ]
  },
  {
   "attachments": {},
   "cell_type": "markdown",
   "metadata": {},
   "source": [
    "6) Utilizar un ciclo while para realizar el factorial de un número guardado en una variable, sólo si la variable contiene un número entero mayor a 0"
   ]
  },
  {
   "cell_type": "code",
   "execution_count": 2,
   "metadata": {},
   "outputs": [
    {
     "name": "stdout",
     "output_type": "stream",
     "text": [
      "El factorial es 24\n"
     ]
    }
   ],
   "source": [
    "n=4\n",
    "if (type(n) == int):\n",
    "    if (n > 0):\n",
    "        factorial = n\n",
    "        while (n > 2):\n",
    "            n = n - 1\n",
    "            factorial = factorial * n\n",
    "        print('El factorial es', factorial)\n",
    "\n",
    "\n",
    "        #no entendi nada en este...\n",
    "\n",
    "\n",
    "\n"
   ]
  },
  {
   "attachments": {},
   "cell_type": "markdown",
   "metadata": {},
   "source": [
    "7) Crear un ciclo for dentro de un ciclo while"
   ]
  },
  {
   "cell_type": "code",
   "execution_count": 10,
   "metadata": {},
   "outputs": [
    {
     "name": "stdout",
     "output_type": "stream",
     "text": [
      "16  es mayor que 15\n",
      "17  es mayor que 15\n",
      "18  es mayor que 15\n",
      "19  es mayor que 15\n",
      "20  es mayor que 15\n",
      "21  es mayor que 15\n",
      "22  es mayor que 15\n",
      "23  es mayor que 15\n",
      "24  es mayor que 15\n",
      "25  es mayor que 15\n",
      "26  es mayor que 15\n",
      "27  es mayor que 15\n",
      "28  es mayor que 15\n",
      "29  es mayor que 15\n"
     ]
    }
   ],
   "source": [
    "\n",
    "while h!=20:\n",
    "    for h in range (10,30):\n",
    "        if h>15:\n",
    "            print(h,' es mayor que 15')\n",
    "    break\n"
   ]
  },
  {
   "attachments": {},
   "cell_type": "markdown",
   "metadata": {},
   "source": [
    "8) Crear un ciclo while dentro de un ciclo for"
   ]
  },
  {
   "cell_type": "code",
   "execution_count": 26,
   "metadata": {},
   "outputs": [
    {
     "name": "stdout",
     "output_type": "stream",
     "text": [
      "3  esta entre 2 y 5\n",
      "4  esta entre 2 y 5\n"
     ]
    }
   ],
   "source": [
    "for l in range (1,7):\n",
    "    while l>2<5:\n",
    "        if l>=5:\n",
    "            pass\n",
    "        else:\n",
    "            print(l,' esta entre 2 y 5')\n",
    "    \n",
    "        break"
   ]
  },
  {
   "attachments": {},
   "cell_type": "markdown",
   "metadata": {},
   "source": [
    "9) Imprimir los números primos existentes entre 0 y 30"
   ]
  },
  {
   "cell_type": "code",
   "execution_count": 28,
   "metadata": {},
   "outputs": [
    {
     "name": "stdout",
     "output_type": "stream",
     "text": [
      "2 es un número primo.\n",
      "3 es un número primo.\n",
      "5 es un número primo.\n",
      "7 es un número primo.\n",
      "11 es un número primo.\n",
      "13 es un número primo.\n",
      "17 es un número primo.\n",
      "19 es un número primo.\n",
      "23 es un número primo.\n",
      "29 es un número primo.\n"
     ]
    }
   ],
   "source": [
    "for s in range(1, 31):\n",
    "    if s <= 1:                                  #si S es menor o igual a 1\n",
    "        p = False                               #P no aplica (los negativos no son primos)\n",
    "    else:\n",
    "        p = True                                #osea que si P es mayor que 1\n",
    "        for i in range(2, s):                   #en un rango de 2 a S\n",
    "            if s % i == 0:                      #si dividimos S entero entre el numero del rango y este equivale a 0\n",
    "                p = False                       #P no aplica\n",
    "                break                               \n",
    "    if p:                                       #no entiendo, si p que?\n",
    "        print(s, \"es un número primo.\")         #imprime resultado\n",
    "    else:                                       #continue para que no haga nada con los que no aplican\n",
    "        continue"
   ]
  },
  {
   "attachments": {},
   "cell_type": "markdown",
   "metadata": {},
   "source": [
    "10) ¿Se puede mejorar el proceso del punto 9? Utilizar las sentencias break y/ó continue para tal fin"
   ]
  },
  {
   "cell_type": "code",
   "execution_count": null,
   "metadata": {},
   "outputs": [],
   "source": [
    "#ya lo tiene"
   ]
  },
  {
   "attachments": {},
   "cell_type": "markdown",
   "metadata": {},
   "source": [
    "11) En los puntos 9 y 10, se diseño un código que encuentra números primos y además se lo optimizó. ¿Es posible saber en qué medida se optimizó?"
   ]
  },
  {
   "cell_type": "code",
   "execution_count": 30,
   "metadata": {},
   "outputs": [
    {
     "name": "stdout",
     "output_type": "stream",
     "text": [
      "2 es un número primo.\n",
      "3 es un número primo.\n",
      "5 es un número primo.\n",
      "7 es un número primo.\n",
      "11 es un número primo.\n",
      "13 es un número primo.\n",
      "17 es un número primo.\n",
      "19 es un número primo.\n",
      "23 es un número primo.\n",
      "29 es un número primo.\n",
      "cantidad de ciclos  30\n"
     ]
    }
   ],
   "source": [
    "sin_break=0\n",
    "for s in range(1, 31):\n",
    "    sin_break+=1\n",
    "    if s <= 1:\n",
    "        p = False\n",
    "    else:\n",
    "        p = True\n",
    "        for i in range(2, s):\n",
    "            if s % i == 0:\n",
    "                p = False\n",
    "                break\n",
    "    if p:\n",
    "        print(s, \"es un número primo.\")\n",
    "    else:\n",
    "        continue\n",
    "print('cantidad de ciclos ', sin_break)"
   ]
  },
  {
   "attachments": {},
   "cell_type": "markdown",
   "metadata": {},
   "source": [
    "12) Si la cantidad de números que se evalúa es mayor a treinta, esa optimización crece?"
   ]
  },
  {
   "cell_type": "code",
   "execution_count": null,
   "metadata": {},
   "outputs": [],
   "source": [
    "#son 30 ciclos cerrados"
   ]
  },
  {
   "attachments": {},
   "cell_type": "markdown",
   "metadata": {},
   "source": [
    "13) Aplicando continue, armar un ciclo while que solo imprima los valores divisibles por 12, dentro del rango de números de 100 a 300"
   ]
  },
  {
   "cell_type": "code",
   "execution_count": 56,
   "metadata": {},
   "outputs": [
    {
     "name": "stdout",
     "output_type": "stream",
     "text": [
      "108\n",
      "120\n",
      "132\n",
      "144\n",
      "156\n",
      "168\n",
      "180\n",
      "192\n",
      "204\n",
      "216\n",
      "228\n",
      "240\n",
      "252\n",
      "264\n",
      "276\n",
      "288\n",
      "300\n"
     ]
    }
   ],
   "source": [
    "valor=100\n",
    "\n",
    "while valor <=301:\n",
    "    if valor%12!=0:         #recordar que esto significa que no tiene decimales\n",
    "        valor +=1\n",
    "        continue\n",
    "    print (valor)\n",
    "    valor +=1\n",
    "\n"
   ]
  },
  {
   "attachments": {},
   "cell_type": "markdown",
   "metadata": {},
   "source": [
    "14) Utilizar la función **input()** que permite hacer ingresos por teclado, para encontrar números primos y dar la opción al usario de buscar el siguiente"
   ]
  },
  {
   "cell_type": "code",
   "execution_count": 85,
   "metadata": {},
   "outputs": [
    {
     "name": "stdout",
     "output_type": "stream",
     "text": [
      "15 NO es un número primo.\n"
     ]
    }
   ],
   "source": [
    "ingreso = int(input('Ingresa un número: '))\n",
    "primo = True\n",
    "\n",
    "if ingreso <= 1:\n",
    "    primo = False\n",
    "else:\n",
    "    for i in range(2, s):\n",
    "        if ingreso % i == 0:\n",
    "            primo = False\n",
    "            break\n",
    "\n",
    "if primo:\n",
    "    print(ingreso, \"es un número primo.\")\n",
    "else:\n",
    "    print(ingreso, \"NO es un número primo.\")\n",
    "                          \n"
   ]
  },
  {
   "attachments": {},
   "cell_type": "markdown",
   "metadata": {},
   "source": [
    "15) Crear un ciclo while que encuentre dentro del rango de 100 a 300 el primer número divisible por 3 y además múltiplo de 6"
   ]
  },
  {
   "cell_type": "code",
   "execution_count": 1,
   "metadata": {},
   "outputs": [
    {
     "name": "stdout",
     "output_type": "stream",
     "text": [
      "102\n"
     ]
    }
   ],
   "source": [
    "valor=100\n",
    "\n",
    "while valor <=301:\n",
    "    if valor%3==0 and valor%6==0:               #recordar que esto significa que no tiene decimales\n",
    "        print (valor)\n",
    "        break\n",
    "    valor +=1\n",
    "\n"
   ]
  }
 ],
 "metadata": {
  "interpreter": {
   "hash": "c85384e4cb51c8b72350f3a8712cc8351fdc3955e32a27f9b60c6242ab125f01"
  },
  "kernelspec": {
   "display_name": "Python 3 (ipykernel)",
   "language": "python",
   "name": "python3"
  },
  "language_info": {
   "codemirror_mode": {
    "name": "ipython",
    "version": 3
   },
   "file_extension": ".py",
   "mimetype": "text/x-python",
   "name": "python",
   "nbconvert_exporter": "python",
   "pygments_lexer": "ipython3",
   "version": "3.10.11"
  }
 },
 "nbformat": 4,
 "nbformat_minor": 4
}
