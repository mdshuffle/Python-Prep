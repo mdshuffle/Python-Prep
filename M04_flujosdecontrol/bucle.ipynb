{
 "cells": [
  {
   "cell_type": "code",
   "execution_count": 1,
   "metadata": {},
   "outputs": [
    {
     "name": "stdout",
     "output_type": "stream",
     "text": [
      "1\n"
     ]
    }
   ],
   "source": [
    "suma=0\n",
    "suma+=1\n",
    "print(suma)"
   ]
  },
  {
   "cell_type": "code",
   "execution_count": 8,
   "metadata": {},
   "outputs": [
    {
     "name": "stdout",
     "output_type": "stream",
     "text": [
      "2\n",
      "3\n",
      "4\n",
      "5\n",
      "6\n",
      "7\n"
     ]
    }
   ],
   "source": [
    "numeros= [1,2,3,4,5,6]\n",
    "for x in numeros:\n",
    "    suma = x+1\n",
    "    print(suma)"
   ]
  },
  {
   "cell_type": "code",
   "execution_count": 7,
   "metadata": {},
   "outputs": [
    {
     "name": "stdout",
     "output_type": "stream",
     "text": [
      "2\n",
      "3\n",
      "4\n",
      "5\n",
      "6\n"
     ]
    }
   ],
   "source": [
    "for y in range (1,6):\n",
    "    suma=y+1\n",
    "    print(suma)"
   ]
  },
  {
   "cell_type": "code",
   "execution_count": 13,
   "metadata": {},
   "outputs": [
    {
     "name": "stdout",
     "output_type": "stream",
     "text": [
      "Variable de iteracion:  1 + 1 =  2\n",
      "Variable de iteracion:  2 + 1 =  3\n",
      "Variable de iteracion:  3 + 1 =  4\n",
      "Variable de iteracion:  4 + 1 =  5\n",
      "Variable de iteracion:  5 + 1 =  6\n"
     ]
    }
   ],
   "source": [
    "for y in range (1,6):\n",
    "    suma=y+1\n",
    "    print('Variable de iteracion: ', y, '+',suma-y,'= ', suma)"
   ]
  },
  {
   "cell_type": "code",
   "execution_count": 14,
   "metadata": {},
   "outputs": [
    {
     "name": "stdout",
     "output_type": "stream",
     "text": [
      "el valor es  1\n",
      "el valor es  2\n",
      "el valor es  3\n",
      "el valor es  4\n",
      "el valor es  5\n"
     ]
    }
   ],
   "source": [
    "gon=1\n",
    "while gon<6:\n",
    "    print('el valor es ', gon)\n",
    "    gon=gon+1"
   ]
  },
  {
   "cell_type": "code",
   "execution_count": 20,
   "metadata": {},
   "outputs": [
    {
     "name": "stdout",
     "output_type": "stream",
     "text": [
      "p\n",
      "y\n",
      "t\n",
      "ahi esta la H\n"
     ]
    }
   ],
   "source": [
    "cadena='python'\n",
    "for letra in cadena:\n",
    "    if letra=='h':\n",
    "        print('ahi esta la H')\n",
    "        break\n",
    "    print (letra)"
   ]
  },
  {
   "cell_type": "code",
   "execution_count": 29,
   "metadata": {},
   "outputs": [
    {
     "name": "stdout",
     "output_type": "stream",
     "text": [
      "4\n",
      "3\n",
      "2\n",
      "1\n",
      "0\n",
      "fin del bucle\n"
     ]
    }
   ],
   "source": [
    "x=5 \n",
    "while True:\n",
    "    x-=1\n",
    "    print(x)\n",
    "    if x==0:\n",
    "        break\n",
    "print('fin del bucle')\n",
    "    "
   ]
  }
 ],
 "metadata": {
  "kernelspec": {
   "display_name": "Python 3",
   "language": "python",
   "name": "python3"
  },
  "language_info": {
   "codemirror_mode": {
    "name": "ipython",
    "version": 3
   },
   "file_extension": ".py",
   "mimetype": "text/x-python",
   "name": "python",
   "nbconvert_exporter": "python",
   "pygments_lexer": "ipython3",
   "version": "3.10.11"
  },
  "orig_nbformat": 4
 },
 "nbformat": 4,
 "nbformat_minor": 2
}
